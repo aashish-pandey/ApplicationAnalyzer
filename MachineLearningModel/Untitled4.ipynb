{
  "nbformat": 4,
  "nbformat_minor": 0,
  "metadata": {
    "colab": {
      "provenance": []
    },
    "kernelspec": {
      "name": "python3",
      "display_name": "Python 3"
    },
    "language_info": {
      "name": "python"
    }
  },
  "cells": [
    {
      "cell_type": "code",
      "execution_count": null,
      "metadata": {
        "id": "qhcw_vjQq0BO"
      },
      "outputs": [],
      "source": [
        "#import necessary modules\n",
        "import numpy as np\n",
        "import pandas as pd\n",
        "import matplotlib.pylab as plt\n",
        "from numpy import mean\n",
        "from numpy import std\n",
        "from sklearn.model_selection import train_test_split\n",
        "from sklearn.metrics import accuracy_score\n",
        "\n",
        "#import files for linear regression\n",
        "from sklearn.linear_model import LinearRegression\n",
        "\n",
        "#import files for KNN algorithm\n",
        "from sklearn.neighbors import KNeighborsClassifier, KNeighborsRegressor\n",
        "\n",
        "#import files for XGBoost\n",
        "from xgboost import XGBClassifier, XGBRegressor\n",
        "\n",
        "#import files for AdaBoost\n",
        "from sklearn.datasets import make_classification\n",
        "from sklearn.model_selection import cross_val_score\n",
        "from sklearn.model_selection import RepeatedStratifiedKFold\n",
        "from sklearn.ensemble import AdaBoostClassifier, AdaBoostRegressor\n",
        "\n",
        "\n",
        "#import files for logistic regressor\n",
        "from sklearn.linear_model import LogisticRegression"
      ]
    },
    {
      "cell_type": "code",
      "source": [
        "#loading Data and data preprocessing\n",
        "dt = pd.read_csv('Book1.csv')\n",
        "df = dt[['University', 'Status', 'Q', 'V', 'TOEFL', 'CGPA', 'Papers', 'Work Ex']]\n",
        "#making column values suitable\n",
        "df['Status'][df.Status == 'Admit'] = 1\n",
        "df['Status'][df.Status == 'Reject'] = 0\n",
        "df['Work Ex'] = df['Work Ex'].str.extract('(\\d+)', expand=False)\n",
        "df['CGPA'].where(df['CGPA'] < 10, df['CGPA'] / 10 , inplace = True)\n",
        "#fillna is used to fill the NaN value by mean of that column\n",
        "df['Q'] = df['Q'].fillna(mean(df['Q']))\n",
        "df['V'] = df['V'].fillna(mean(df['V']))\n",
        "df['TOEFL'] = df['TOEFL'].fillna(mean(df['TOEFL']))\n",
        "df['CGPA'] = df['CGPA'].fillna(mean(df['CGPA']))\n",
        "df['Papers'] = df['Papers'].fillna(0)\n",
        "df['Status'] = df['Status'].fillna(0)\n",
        "df['Work Ex'] = df['Work Ex'].fillna(0)\n"
      ],
      "metadata": {
        "colab": {
          "base_uri": "https://localhost:8080/"
        },
        "id": "GuT-2kRnq5Pb",
        "outputId": "1833f42b-222f-463a-8f96-0d69f6c92131"
      },
      "execution_count": null,
      "outputs": [
        {
          "output_type": "stream",
          "name": "stderr",
          "text": [
            "<ipython-input-3-ffcd75158d5c>:5: SettingWithCopyWarning: \n",
            "A value is trying to be set on a copy of a slice from a DataFrame\n",
            "\n",
            "See the caveats in the documentation: https://pandas.pydata.org/pandas-docs/stable/user_guide/indexing.html#returning-a-view-versus-a-copy\n",
            "  df['Status'][df.Status == 'Admit'] = 1\n",
            "<ipython-input-3-ffcd75158d5c>:6: SettingWithCopyWarning: \n",
            "A value is trying to be set on a copy of a slice from a DataFrame\n",
            "\n",
            "See the caveats in the documentation: https://pandas.pydata.org/pandas-docs/stable/user_guide/indexing.html#returning-a-view-versus-a-copy\n",
            "  df['Status'][df.Status == 'Reject'] = 0\n",
            "<ipython-input-3-ffcd75158d5c>:7: SettingWithCopyWarning: \n",
            "A value is trying to be set on a copy of a slice from a DataFrame.\n",
            "Try using .loc[row_indexer,col_indexer] = value instead\n",
            "\n",
            "See the caveats in the documentation: https://pandas.pydata.org/pandas-docs/stable/user_guide/indexing.html#returning-a-view-versus-a-copy\n",
            "  df['Work Ex'] = df['Work Ex'].str.extract('(\\d+)', expand=False)\n",
            "<ipython-input-3-ffcd75158d5c>:10: SettingWithCopyWarning: \n",
            "A value is trying to be set on a copy of a slice from a DataFrame.\n",
            "Try using .loc[row_indexer,col_indexer] = value instead\n",
            "\n",
            "See the caveats in the documentation: https://pandas.pydata.org/pandas-docs/stable/user_guide/indexing.html#returning-a-view-versus-a-copy\n",
            "  df['Q'] = df['Q'].fillna(mean(df['Q']))\n",
            "<ipython-input-3-ffcd75158d5c>:11: SettingWithCopyWarning: \n",
            "A value is trying to be set on a copy of a slice from a DataFrame.\n",
            "Try using .loc[row_indexer,col_indexer] = value instead\n",
            "\n",
            "See the caveats in the documentation: https://pandas.pydata.org/pandas-docs/stable/user_guide/indexing.html#returning-a-view-versus-a-copy\n",
            "  df['V'] = df['V'].fillna(mean(df['V']))\n",
            "<ipython-input-3-ffcd75158d5c>:12: SettingWithCopyWarning: \n",
            "A value is trying to be set on a copy of a slice from a DataFrame.\n",
            "Try using .loc[row_indexer,col_indexer] = value instead\n",
            "\n",
            "See the caveats in the documentation: https://pandas.pydata.org/pandas-docs/stable/user_guide/indexing.html#returning-a-view-versus-a-copy\n",
            "  df['TOEFL'] = df['TOEFL'].fillna(mean(df['TOEFL']))\n",
            "<ipython-input-3-ffcd75158d5c>:13: SettingWithCopyWarning: \n",
            "A value is trying to be set on a copy of a slice from a DataFrame.\n",
            "Try using .loc[row_indexer,col_indexer] = value instead\n",
            "\n",
            "See the caveats in the documentation: https://pandas.pydata.org/pandas-docs/stable/user_guide/indexing.html#returning-a-view-versus-a-copy\n",
            "  df['CGPA'] = df['CGPA'].fillna(mean(df['CGPA']))\n",
            "<ipython-input-3-ffcd75158d5c>:14: SettingWithCopyWarning: \n",
            "A value is trying to be set on a copy of a slice from a DataFrame.\n",
            "Try using .loc[row_indexer,col_indexer] = value instead\n",
            "\n",
            "See the caveats in the documentation: https://pandas.pydata.org/pandas-docs/stable/user_guide/indexing.html#returning-a-view-versus-a-copy\n",
            "  df['Papers'] = df['Papers'].fillna(0)\n",
            "<ipython-input-3-ffcd75158d5c>:15: SettingWithCopyWarning: \n",
            "A value is trying to be set on a copy of a slice from a DataFrame.\n",
            "Try using .loc[row_indexer,col_indexer] = value instead\n",
            "\n",
            "See the caveats in the documentation: https://pandas.pydata.org/pandas-docs/stable/user_guide/indexing.html#returning-a-view-versus-a-copy\n",
            "  df['Status'] = df['Status'].fillna(0)\n",
            "<ipython-input-3-ffcd75158d5c>:16: SettingWithCopyWarning: \n",
            "A value is trying to be set on a copy of a slice from a DataFrame.\n",
            "Try using .loc[row_indexer,col_indexer] = value instead\n",
            "\n",
            "See the caveats in the documentation: https://pandas.pydata.org/pandas-docs/stable/user_guide/indexing.html#returning-a-view-versus-a-copy\n",
            "  df['Work Ex'] = df['Work Ex'].fillna(0)\n"
          ]
        }
      ]
    },
    {
      "cell_type": "code",
      "source": [
        "# extracting names of universities present in the data because we are going to train the model using independent data set of each university\n",
        "\n",
        "st = set()\n",
        "\n",
        "for i in df['University']:\n",
        "  st.add(i)\n",
        "\n",
        "print(st)\n"
      ],
      "metadata": {
        "colab": {
          "base_uri": "https://localhost:8080/"
        },
        "id": "NsqeC81FrEy3",
        "outputId": "c62b3ad4-4d0f-4999-e40b-9d1ed6a27faf"
      },
      "execution_count": null,
      "outputs": [
        {
          "output_type": "stream",
          "name": "stdout",
          "text": [
            "{'Texas A&M University, College Station', 'Indiana University, Bloomington', 'San Jose State University', 'Western Michigan University', 'University of Maryland, Baltimore County', 'University of Massachusetts, Amherst', 'Virginia Tech University', 'University of Texas, Arlington', 'University of Dayton, Ohio', 'University of Texas, Austin', 'University of Texas, Dallas', 'Illinios Institute of Technology, Chicago', 'Harvard University', 'New York University', 'Western University', 'University of Illinois, Chicago', 'University of South Carolina, Columbia', 'University of Maryland, College Park', 'Stanford University', 'NYU Tandon School of Engineering', 'North Carolina State University', 'State University of New York, Buffalo', 'University of Arizona', 'Pennsylvania State University', 'Kansas State University', 'University of California, San Diego', 'University of Michigan, Ann Arbor', 'Oklahoma State University, Stillwater'}\n"
          ]
        }
      ]
    },
    {
      "cell_type": "code",
      "source": [
        "finalarr = []\n",
        "\n",
        "for uname in st:\n",
        "  innerarr = []\n",
        "  innerarr.append(uname)\n",
        "  df1 = df[df['University'] == uname]\n",
        "  af = df1[['CGPA', 'Q', 'V', 'TOEFL', 'Papers', 'Work Ex']].to_numpy()\n",
        "\n",
        "  # Split into training and test set\n",
        "  X_train, X_test, y_train, y_test = train_test_split(af, df1['Status'], test_size = 0.2, random_state=42)\n",
        "  \n",
        "\n",
        "  #linear regression\n",
        "  # reg = LinearRegression()\n",
        "\n",
        "  # reg.fit(X_train, y_train)\n",
        "\n",
        "  # y_pred = reg.predict(X_test)\n",
        "  #   # print(round(y_pred[4]))\n",
        "  # aq = y_test.tolist()\n",
        "  # # print(aq)\n",
        "  # q = 0\n",
        "  # w = 0\n",
        "  # for i in range(len(y_pred)):\n",
        "  #   if(round(y_pred[i]) == aq[i]):\n",
        "  #     w+=1\n",
        "  #   q+=1\n",
        "\n",
        "  # innerarr.append(w/q)\n",
        "\n",
        "  #KNN algorithm with different value of n\n",
        "  # qwer = min(50, len(X_train))\n",
        "  # neighbors = np.arange(1, qwer)\n",
        "  # train_accuracy = np.empty(len(neighbors))\n",
        "  # test_accuracy = np.empty(len(neighbors))\n",
        "  # n_val1 = 1;\n",
        "  # accry = 0;  \n",
        "  # # Loop over K values\n",
        "  # for i, k in enumerate(neighbors):\n",
        "  #     knn = KNeighborsRegressor(n_neighbors=k)\n",
        "  #     knn.fit(X_train, y_train)\n",
        "        \n",
        "  #     test_accuracy[i] = knn.score(X_test, y_test)\n",
        "  #     if(test_accuracy[i] > accry):\n",
        "  #       accry = test_accuracy[i]\n",
        "  #       n_val1 = i\n",
        "  \n",
        "  #KNN Algorithm with value n\n",
        "\n",
        "  # knn = KNeighborsRegressor(n_neighbors=n_val1)\n",
        "    \n",
        "  # knn.fit(X_train, y_train)\n",
        "    \n",
        "  # # Predict on dataset which model has not seen before\n",
        "  # # print(knn.predict(X_test))\n",
        "\n",
        "  # innerarr.append(knn.score(X_test, y_test)*100)\n",
        "\n",
        "\n",
        "  # # #XGBoost Algortihm\n",
        "  model = XGBClassifier()\n",
        "  model.fit(X_train, y_train)\n",
        "\n",
        "\n",
        "\n",
        "  # #predict the value\n",
        "  # y_pred = model.predict(X_test)\n",
        "  # print(y_pred)\n",
        "  result = uname.replace(' ', '_')\n",
        "  filena = 'model_' + result + '_XGBoost.pkl'\n",
        "  model.save_model(filena)\n",
        "\n",
        "  # print(round(y_pred[4]))\n",
        "  # aq = y_test.tolist()\n",
        "  # # print(aq)\n",
        "  # q = 0\n",
        "  # w = 0\n",
        "  # for i in range(len(y_pred)):\n",
        "  #   if(round(y_pred[i]) == aq[i]):\n",
        "  #     w+=1\n",
        "  #   q+=1\n",
        "\n",
        "  # innerarr.append(w/q)\n",
        "\n",
        "  # # AdaBoost Algorithm\n",
        "  # # define the model\n",
        "  # model = AdaBoostClassifier()\n",
        "  # # evaluate the model\n",
        "  # cv = RepeatedStratifiedKFold(n_splits=10, n_repeats=3, random_state=1)\n",
        "  # n_scores = cross_val_score(model, af, df1['Status'], scoring='accuracy', cv=cv, n_jobs=-1, error_score='raise')\n",
        "  # # report performance\n",
        "  # innerarr.append(mean(n_scores))\n",
        "\n",
        "  # finalarr.append(innerarr)\n",
        "\n",
        "print(finalarr)\n",
        "\n"
      ],
      "metadata": {
        "colab": {
          "base_uri": "https://localhost:8080/"
        },
        "id": "KFYYtT3WrfxV",
        "outputId": "b1196bad-7565-48e2-9922-fee0f1c29834"
      },
      "execution_count": null,
      "outputs": [
        {
          "output_type": "stream",
          "name": "stdout",
          "text": [
            "[]\n"
          ]
        }
      ]
    }
  ]
}